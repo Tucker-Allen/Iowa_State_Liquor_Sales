{
 "cells": [
  {
   "cell_type": "code",
   "execution_count": 5,
   "metadata": {
    "collapsed": true
   },
   "outputs": [],
   "source": [
    "# A DataFrame EDA function\n",
    "def EDA(dataframe):\n",
    "    print(\"Dataframe Shape \\n\", dataframe.shape,\"\\n\")\n",
    "    print(\"Dataframe Types \\n \\n\", dataframe.dtypes,\"\\n\")\n",
    "    print(\"Missing Values \\n \\n\", dataframe.isnull().sum(),\"\\n\")\n",
    "    print(\"Duplicate Rows \\n\", dataframe.duplicated().sum(),\"\\n\")\n",
    "    print(\"Dataframe Describe \\n \\n\", dataframe.describe(include='all'),\"\\n\")\n",
    "    print(\"Count of Unique Values:\", \"\\n\")\n",
    "    for item in dataframe:\n",
    "        print(item)\n",
    "        print(dataframe[item].nunique())"
   ]
  },
  {
   "cell_type": "code",
   "execution_count": 6,
   "metadata": {
    "collapsed": true
   },
   "outputs": [],
   "source": [
    "# A DataFrame function, to force column to a certain data type\n",
    "def convert_col(df, col_name, new_type):\n",
    "    print('Original Column type is:', df[col_name].dtype)\n",
    "    \n",
    "    exception_lst = []\n",
    "    if new_type == int:\n",
    "        df[col_name] = df[col_name].astype(int)\n",
    "    elif new_type == str:\n",
    "        df[col_name] = df[col_name].astype(str)\n",
    "    elif new_type == float:\n",
    "        df[col_name] = df[col_name].astype(float)\n",
    "        \n",
    "    print('New Column type is:', df[col_name].dtype)"
   ]
  },
  {
   "cell_type": "code",
   "execution_count": 4,
   "metadata": {
    "collapsed": true
   },
   "outputs": [],
   "source": [
    "# A DataFrame function, to set null values to 0 within a column\n",
    "def null_to_value(df, col_name, new_value):\n",
    "    df.loc[df[col_name].isnull(), col_name] = new_value"
   ]
  },
  {
   "cell_type": "code",
   "execution_count": 7,
   "metadata": {
    "collapsed": true
   },
   "outputs": [],
   "source": [
    "def dollar_stripper(df, col_name):\n",
    "    df[col_name] = df[col_name].replace('[\\$,]', '', regex=True).astype(float)"
   ]
  },
  {
   "cell_type": "code",
   "execution_count": null,
   "metadata": {
    "collapsed": true
   },
   "outputs": [],
   "source": []
  }
 ],
 "metadata": {
  "kernelspec": {
   "display_name": "Python 3",
   "language": "python",
   "name": "python3"
  },
  "language_info": {
   "codemirror_mode": {
    "name": "ipython",
    "version": 3
   },
   "file_extension": ".py",
   "mimetype": "text/x-python",
   "name": "python",
   "nbconvert_exporter": "python",
   "pygments_lexer": "ipython3",
   "version": "3.6.3"
  }
 },
 "nbformat": 4,
 "nbformat_minor": 2
}
